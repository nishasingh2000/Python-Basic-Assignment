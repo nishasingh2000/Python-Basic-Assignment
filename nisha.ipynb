{
 "cells": [
  {
   "cell_type": "markdown",
   "metadata": {},
   "source": [
    "# Python Basics Assignment "
   ]
  },
  {
   "cell_type": "markdown",
   "metadata": {},
   "source": [
    "1.Explain the key features of Python that make it a popular choice for programming. \n",
    "\n",
    "-> Python is known for its readability and simplicity\n",
    "-> Free & Open-Source You don’t have to pay to use Python. It’s completely free and open source anyone can contribute it. \n",
    "-> A beginner and pro both can easily learn and understand all the codes at the same time. \n",
    "-> Python works on Windows, Mac, Linux, and even mobile devices. You don’t have to worry about switching systems.\n",
    "-> It can be used for web development, data science, artificial intelligence, automation, game development, and much more.\n",
    "-> Python has massive libraries like 137000, it offers many comman tasks so you don't need to program from sratch\n",
    "-> Python is widely use in every factor because it is simple and very easy in reading and understanding. \n"
   ]
  },
  {
   "cell_type": "markdown",
   "metadata": {},
   "source": [
    "2. Describe the role of predefined keywords in Python and provide examples of how they are used in a program. \n",
    "\n",
    "Predefined keywords in Python are special words that Python already understands and uses for important tasks. You cannot use them as names for your variables because Python has reserved them for specific functions. These keywords help in writing programs by controlling actions, making decisions, and handling errors.\n",
    "\n"
   ]
  },
  {
   "cell_type": "code",
   "execution_count": 4,
   "metadata": {},
   "outputs": [
    {
     "name": "stdout",
     "output_type": "stream",
     "text": [
      "The number is positive.\n"
     ]
    }
   ],
   "source": [
    "'''Examples of python keywords and their usage control flow keywords'''\n",
    "# if, elif, else: used for conditional statement \n",
    "# The if statement runs a block of code only if the condition is True.\n",
    "num = 10\n",
    "\n",
    "if num > 0: \n",
    "    print(\"The number is positive.\")\n"
   ]
  },
  {
   "cell_type": "code",
   "execution_count": 6,
   "metadata": {},
   "outputs": [
    {
     "name": "stdout",
     "output_type": "stream",
     "text": [
      "It's raining! Don't forget your umbrella. ☔\n"
     ]
    }
   ],
   "source": [
    "# elif statement is used when you want to check multiple condistions if the first condistion is in if false python checks elif condistion. \n",
    "weather=\"rainy\"\n",
    "if weather == \"sunny\":\n",
    "    print(\"It's a bright day! Wear sunglasses. 😎\")\n",
    "elif weather == \"rainy\":\n",
    "    print(\"It's raining! Don't forget your umbrella. ☔\")\n",
    "elif weather == \"cloudy\":\n",
    "    print(\"It looks gloomy outside. A good day for a walk! 🌥\")\n",
    "elif weather == \"snowy\":\n",
    "    print(\"It's snowing! Wear warm clothes. ❄️\")\n",
    "else:\n",
    "    print(\"Weather condition unknown. Check the forecast!\")"
   ]
  },
  {
   "cell_type": "code",
   "execution_count": 8,
   "metadata": {},
   "outputs": [
    {
     "name": "stdout",
     "output_type": "stream",
     "text": [
      "Discount applied!\n"
     ]
    }
   ],
   "source": [
    "#The else statement runs only if all previous conditions were False.Purchased_items=10\n",
    "Purchased_items=10\n",
    "total_bill=800\n",
    "if Purchased_items > 5 and total_bill > 500:\n",
    "    print(\"Discount applied!\")\n",
    "else:\n",
    "    print(\"No discount available.\")"
   ]
  },
  {
   "cell_type": "code",
   "execution_count": 12,
   "metadata": {},
   "outputs": [
    {
     "name": "stdout",
     "output_type": "stream",
     "text": [
      "1\n",
      "2\n",
      "3\n",
      "4\n",
      "5\n",
      "6\n"
     ]
    }
   ],
   "source": [
    "# while loop in Python is used to repeat a block of code multiple times as long as a condition stays True.\n",
    "n=7\n",
    "i=1\n",
    "while i<n:\n",
    "    print(i)\n",
    "    i= i+1\n"
   ]
  },
  {
   "cell_type": "code",
   "execution_count": 14,
   "metadata": {},
   "outputs": [
    {
     "name": "stdout",
     "output_type": "stream",
     "text": [
      "1\n",
      "2\n"
     ]
    }
   ],
   "source": [
    "#break exits/terminates the loop \n",
    "# The condition is met it will break the loop \n",
    "n=3\n",
    "i=1\n",
    "while i<n:\n",
    "    print(i)\n",
    "    i= i+1\n",
    "    if 1==3:\n",
    "        print(\"break the loop\")"
   ]
  },
  {
   "cell_type": "code",
   "execution_count": 15,
   "metadata": {},
   "outputs": [
    {
     "name": "stdout",
     "output_type": "stream",
     "text": [
      "2\n",
      "4\n",
      "5\n",
      "6\n",
      "7\n"
     ]
    }
   ],
   "source": [
    "# continoue statement << it skips the particular iteration \n",
    "n=7\n",
    "i=1\n",
    "while i<n:\n",
    "    i= i+1\n",
    "    if i==3:\n",
    "        continue\n",
    "    print(i) "
   ]
  },
  {
   "cell_type": "code",
   "execution_count": 1,
   "metadata": {},
   "outputs": [
    {
     "name": "stdout",
     "output_type": "stream",
     "text": [
      "p\n",
      "w\n",
      "s\n",
      "k\n",
      "i\n",
      "l\n",
      "l\n",
      "s\n"
     ]
    }
   ],
   "source": [
    "#The for loop in Python is used to iterate over a sequence like a list, tuple, dictionary, string, or range.\n",
    "for i in \"pwskills\":\n",
    "    print(i)"
   ]
  },
  {
   "cell_type": "markdown",
   "metadata": {},
   "source": [
    "3.Compare and contrast mutable and immutable objects in Python with examples.\n",
    "'''\n",
    "- Defination:\n",
    "-- Mutable objects can be changed  after creation \n",
    "-- Immutable objects can not be changed after creation \n",
    "'''"
   ]
  },
  {
   "cell_type": "code",
   "execution_count": null,
   "metadata": {},
   "outputs": [],
   "source": [
    "#Examples\n",
    "# Mutable objects: List, dict, set\n",
    "#Immutable objects: Int, float, Str, Tuple, Bool\n"
   ]
  },
  {
   "cell_type": "code",
   "execution_count": 2,
   "metadata": {},
   "outputs": [
    {
     "data": {
      "text/plain": [
       "[1, 2, 4.5, 'Bijay', True]"
      ]
     },
     "execution_count": 2,
     "metadata": {},
     "output_type": "execute_result"
    }
   ],
   "source": [
    "# Mutable (List)\n",
    "Mylist1= [1,2,4.5,\"ajay\", True]\n",
    "Mylist1[3]=\"Bijay\"\n",
    "Mylist1\n"
   ]
  },
  {
   "cell_type": "code",
   "execution_count": null,
   "metadata": {},
   "outputs": [
    {
     "data": {
      "text/plain": [
       "'Bishal'"
      ]
     },
     "execution_count": 9,
     "metadata": {},
     "output_type": "execute_result"
    }
   ],
   "source": [
    "#immutable (string)\n",
    "Name = \"Vishal\"\n",
    "Nam = [0] = \"B\"\n",
    "Name = \"Bishal\"\n",
    "Name"
   ]
  },
  {
   "cell_type": "markdown",
   "metadata": {},
   "source": [
    "4.Discuss the different types of operators in Python and provide examples of how they are used. \n"
   ]
  },
  {
   "cell_type": "code",
   "execution_count": 10,
   "metadata": {},
   "outputs": [
    {
     "name": "stdout",
     "output_type": "stream",
     "text": [
      "14\n",
      "6\n",
      "40\n",
      "2.5\n",
      "2\n",
      "10000\n",
      "2\n"
     ]
    }
   ],
   "source": [
    "'''Arithmetic operator'''\n",
    "# Used for basic mathematical operator \n",
    "x = 10\n",
    "y = 4\n",
    "print(x+y) #14\n",
    "print(x-y) #6\n",
    "print(x*y) #40\n",
    "print(x/y) #2.5\n",
    "print(x%y) #2\n",
    "print(x**y) #10000\n",
    "print(x//y) #2"
   ]
  },
  {
   "cell_type": "code",
   "execution_count": 4,
   "metadata": {},
   "outputs": [
    {
     "name": "stdout",
     "output_type": "stream",
     "text": [
      "14\n",
      "6\n",
      "40\n",
      "2.5\n",
      "2\n",
      "10000\n",
      "2\n"
     ]
    }
   ],
   "source": [
    "'''Comparison operator '''\n",
    "x= 10\n",
    "y= 4\n",
    "print(x+y) #14\n",
    "print(x-y) #6\n",
    "print(x*y) #40\n",
    "print(x/y) #2.5\n",
    "print(x%y) #2\n",
    "print(x**y) #10000\n",
    "print(x//y) #2"
   ]
  },
  {
   "cell_type": "code",
   "execution_count": null,
   "metadata": {},
   "outputs": [
    {
     "data": {
      "text/plain": [
       "False"
      ]
     },
     "execution_count": 13,
     "metadata": {},
     "output_type": "execute_result"
    }
   ],
   "source": [
    "'''Logical operator'''\n",
    "# and logical operation example \n",
    "True and True # True    \n",
    "True and False # False \n",
    "False and True # False \n",
    "False and False # False"
   ]
  },
  {
   "cell_type": "code",
   "execution_count": 14,
   "metadata": {},
   "outputs": [
    {
     "data": {
      "text/plain": [
       "False"
      ]
     },
     "execution_count": 14,
     "metadata": {},
     "output_type": "execute_result"
    }
   ],
   "source": [
    "# or logical operator example \n",
    "True or True # True \n",
    "True or False # True \n",
    "False or True # True \n",
    "False or False # False \n",
    "\n"
   ]
  },
  {
   "cell_type": "code",
   "execution_count": null,
   "metadata": {},
   "outputs": [
    {
     "data": {
      "text/plain": [
       "False"
      ]
     },
     "execution_count": 15,
     "metadata": {},
     "output_type": "execute_result"
    }
   ],
   "source": [
    "# Not logical operator example\n",
    "not True # False \n",
    "not False # True \n"
   ]
  },
  {
   "cell_type": "code",
   "execution_count": 16,
   "metadata": {},
   "outputs": [
    {
     "data": {
      "text/plain": [
       "20"
      ]
     },
     "execution_count": 16,
     "metadata": {},
     "output_type": "execute_result"
    }
   ],
   "source": [
    "'''Assignment operator'''\n",
    "a=10\n",
    "a=a+10\n",
    "a"
   ]
  },
  {
   "cell_type": "code",
   "execution_count": 17,
   "metadata": {},
   "outputs": [
    {
     "data": {
      "text/plain": [
       "5"
      ]
     },
     "execution_count": 17,
     "metadata": {},
     "output_type": "execute_result"
    }
   ],
   "source": [
    "a=10\n",
    "a=a-5\n",
    "a"
   ]
  },
  {
   "cell_type": "code",
   "execution_count": 18,
   "metadata": {},
   "outputs": [
    {
     "data": {
      "text/plain": [
       "7"
      ]
     },
     "execution_count": 18,
     "metadata": {},
     "output_type": "execute_result"
    }
   ],
   "source": [
    "a=10\n",
    "b=12\n",
    "b-=5\n",
    "b"
   ]
  },
  {
   "cell_type": "code",
   "execution_count": 24,
   "metadata": {},
   "outputs": [
    {
     "data": {
      "text/plain": [
       "True"
      ]
     },
     "execution_count": 24,
     "metadata": {},
     "output_type": "execute_result"
    }
   ],
   "source": [
    "'''membership operator'''\n",
    "Name= \"Pwskills\"\n",
    "\"P\" in Name "
   ]
  },
  {
   "cell_type": "code",
   "execution_count": 25,
   "metadata": {},
   "outputs": [
    {
     "data": {
      "text/plain": [
       "False"
      ]
     },
     "execution_count": 25,
     "metadata": {},
     "output_type": "execute_result"
    }
   ],
   "source": [
    "Name = \"Pwskills\"\n",
    "\"P\" not in Name"
   ]
  },
  {
   "cell_type": "code",
   "execution_count": 26,
   "metadata": {},
   "outputs": [
    {
     "data": {
      "text/plain": [
       "False"
      ]
     },
     "execution_count": 26,
     "metadata": {},
     "output_type": "execute_result"
    }
   ],
   "source": [
    "# Identity operator >> compare the location of two values \n",
    "a=3\n",
    "b=2\n",
    "a is b\n"
   ]
  },
  {
   "cell_type": "markdown",
   "metadata": {},
   "source": [
    "5.Explain the concept of type casting in Python with examples"
   ]
  },
  {
   "cell_type": "code",
   "execution_count": 34,
   "metadata": {},
   "outputs": [
    {
     "data": {
      "text/plain": [
       "2"
      ]
     },
     "execution_count": 34,
     "metadata": {},
     "output_type": "execute_result"
    }
   ],
   "source": [
    "''' Type catsing / type coversion'''\n",
    "# the process of chnaging the data type of a value/ object \n",
    "# comman type casting functions \n",
    "# String to Integer \n",
    "x=\"2\"\n",
    "int(X)\n"
   ]
  },
  {
   "cell_type": "code",
   "execution_count": 35,
   "metadata": {},
   "outputs": [
    {
     "data": {
      "text/plain": [
       "2"
      ]
     },
     "execution_count": 35,
     "metadata": {},
     "output_type": "execute_result"
    }
   ],
   "source": [
    "# Float to Integer\n",
    "X= 2.5\n",
    "int(x)"
   ]
  },
  {
   "cell_type": "code",
   "execution_count": 36,
   "metadata": {},
   "outputs": [
    {
     "data": {
      "text/plain": [
       "'20'"
      ]
     },
     "execution_count": 36,
     "metadata": {},
     "output_type": "execute_result"
    }
   ],
   "source": [
    "#integer to string \n",
    "Price= 20\n",
    "str(Price)"
   ]
  },
  {
   "cell_type": "code",
   "execution_count": 37,
   "metadata": {},
   "outputs": [
    {
     "data": {
      "text/plain": [
       "1"
      ]
     },
     "execution_count": 37,
     "metadata": {},
     "output_type": "execute_result"
    }
   ],
   "source": [
    "#Boolean to integer \n",
    "a= True\n",
    "int(a)\n"
   ]
  },
  {
   "cell_type": "markdown",
   "metadata": {},
   "source": [
    "6. How do conditional statements work in Python? Illustrate with examples. \n",
    "\n",
    " Conditional statements in Python allow the execution of code depending on whether a certain condition is true or false. They are essential for decision-making within a program."
   ]
  },
  {
   "cell_type": "code",
   "execution_count": null,
   "metadata": {},
   "outputs": [
    {
     "name": "stdout",
     "output_type": "stream",
     "text": [
      "you are eligible for vote\n"
     ]
    }
   ],
   "source": [
    "'''conditional statement keywords If, elif, Else, nested, logical operator'''\n",
    "# If statement \n",
    "age = 20\n",
    "if age >= 18:\n",
    "    print(\"you are eligible for vote\")\n",
    "    "
   ]
  },
  {
   "cell_type": "code",
   "execution_count": 5,
   "metadata": {},
   "outputs": [
    {
     "name": "stdout",
     "output_type": "stream",
     "text": [
      "X is less than 5\n"
     ]
    }
   ],
   "source": [
    "# Elif Statement \n",
    "X=3\n",
    "if X>5:\n",
    "    print(\"X is greater than 5\")\n",
    "elif X<5:\n",
    "    print(\"X is less than 5\")\n",
    "elif X==5:\n",
    "    print(\"X is equal to 5\")"
   ]
  },
  {
   "cell_type": "code",
   "execution_count": 6,
   "metadata": {},
   "outputs": [
    {
     "name": "stdout",
     "output_type": "stream",
     "text": [
      "The number is not positive.\n"
     ]
    }
   ],
   "source": [
    "# Else statement \n",
    "number = -5\n",
    "\n",
    "if number > 0:\n",
    "    print(\"The number is positive.\")\n",
    "else:\n",
    "    print(\"The number is not positive.\")\n"
   ]
  },
  {
   "cell_type": "code",
   "execution_count": 7,
   "metadata": {},
   "outputs": [
    {
     "name": "stdout",
     "output_type": "stream",
     "text": [
      "this is the numbr of interest\n"
     ]
    }
   ],
   "source": [
    "# Logical statement \n",
    "number=42\n",
    "if((number%2==0) & (number>0)):\n",
    "    print(\"this is the numbr of interest\")"
   ]
  },
  {
   "cell_type": "markdown",
   "metadata": {},
   "source": [
    "7. Describe the different types of loops in Python and their use cases with examples. \n"
   ]
  },
  {
   "cell_type": "code",
   "execution_count": null,
   "metadata": {},
   "outputs": [],
   "source": [
    "'''Python provides two main types of loop, each useful for different situation  '''\n",
    "# for loop \n",
    "# While loop"
   ]
  },
  {
   "cell_type": "code",
   "execution_count": 8,
   "metadata": {},
   "outputs": [
    {
     "name": "stdout",
     "output_type": "stream",
     "text": [
      "1\n",
      "2\n",
      "3\n",
      "4\n",
      "5\n",
      "6\n"
     ]
    }
   ],
   "source": [
    "# while loop \n",
    "n=7\n",
    "i=1\n",
    "while i<n:\n",
    "    print(i)\n",
    "    i= i+1 "
   ]
  },
  {
   "cell_type": "code",
   "execution_count": 10,
   "metadata": {},
   "outputs": [
    {
     "name": "stdout",
     "output_type": "stream",
     "text": [
      "1\n",
      "2\n"
     ]
    }
   ],
   "source": [
    "#break exits/terminates the loop \n",
    "# The condition is met it will break the loop \n",
    "n=3\n",
    "i=1\n",
    "while i<n:\n",
    "    print(i)\n",
    "    i= i+1\n",
    "    if 1==3:\n",
    "        print(\"break the loop\")"
   ]
  },
  {
   "cell_type": "code",
   "execution_count": 11,
   "metadata": {},
   "outputs": [
    {
     "name": "stdout",
     "output_type": "stream",
     "text": [
      "2\n",
      "4\n",
      "5\n",
      "6\n",
      "7\n"
     ]
    }
   ],
   "source": [
    "#continoue statement << it skips the particular iteration \n",
    "n=7\n",
    "i=1\n",
    "while i<n:\n",
    "    i= i+1\n",
    "    if i==3:\n",
    "        continue\n",
    "    print(i)"
   ]
  },
  {
   "cell_type": "code",
   "execution_count": 16,
   "metadata": {},
   "outputs": [
    {
     "name": "stdout",
     "output_type": "stream",
     "text": [
      "1\n",
      "2\n",
      "ajay\n",
      "pwskills\n"
     ]
    }
   ],
   "source": [
    "#For loop >> in Python is used to iterate over a sequence like a list, tuple, dictionary, string, or range\n",
    "mylist= [1,2,\"ajay\", \"pwskills\"]\n",
    "for i in mylist:\n",
    "    print(i)"
   ]
  },
  {
   "cell_type": "code",
   "execution_count": null,
   "metadata": {},
   "outputs": [],
   "source": []
  }
 ],
 "metadata": {
  "kernelspec": {
   "display_name": "Python 3",
   "language": "python",
   "name": "python3"
  },
  "language_info": {
   "codemirror_mode": {
    "name": "ipython",
    "version": 3
   },
   "file_extension": ".py",
   "mimetype": "text/x-python",
   "name": "python",
   "nbconvert_exporter": "python",
   "pygments_lexer": "ipython3",
   "version": "3.12.2"
  }
 },
 "nbformat": 4,
 "nbformat_minor": 2
}
